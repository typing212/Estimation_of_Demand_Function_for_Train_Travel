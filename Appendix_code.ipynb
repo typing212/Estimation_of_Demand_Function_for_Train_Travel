{
 "cells": [
  {
   "cell_type": "markdown",
   "metadata": {},
   "source": [
    "# Prediction of train demand function in a particular train station \n",
    "### Part 1\n",
    "\n",
    "**Group member:**\n",
    "\n",
    "Ke Ma, A0212524U\n",
    "\n",
    "Nanhai Zhong, A0231953E\n",
    "\n",
    "Mingzhe Xu, A0232022A\n",
    "\n",
    "Xiao Liang, A0232007X\n",
    "\n",
    "*Date: 28 Sept*"
   ]
  },
  {
   "cell_type": "code",
   "execution_count": 1,
   "metadata": {},
   "outputs": [],
   "source": [
    "import pandas as pd\n",
    "import numpy as np\n",
    "from statsmodels.formula.api import ols\n",
    "import scipy\n",
    "import seaborn as sns\n",
    "\n",
    "from sklearn.metrics import r2_score\n",
    "\n",
    "import matplotlib.pyplot as plt\n"
   ]
  },
  {
   "cell_type": "markdown",
   "metadata": {},
   "source": [
    "# Data Preprocessing"
   ]
  },
  {
   "cell_type": "markdown",
   "metadata": {},
   "source": [
    "## Unify Date Format"
   ]
  },
  {
   "cell_type": "code",
   "execution_count": 2,
   "metadata": {},
   "outputs": [],
   "source": [
    "# data was preprocessed in excel to handle date.\n",
    "df2 = pd.read_csv('./Data-GP1(date).csv')\n",
    "dept_datetime = pd.to_datetime(df2['Dept_Date'],errors='coerce')\n",
    "purch_datetime = pd.to_datetime(df2['Purchase_Date'],errors='coerce')\n",
    "df2['dept_datetime'] = pd.DataFrame(dept_datetime)\n",
    "df2['purch_datetime'] = pd.DataFrame(purch_datetime)\n",
    "df = df2.drop(['Dept_Date','Purchase_Date'],axis=1)"
   ]
  },
  {
   "cell_type": "code",
   "execution_count": 3,
   "metadata": {
    "scrolled": true
   },
   "outputs": [
    {
     "data": {
      "text/html": [
       "<div>\n",
       "<style scoped>\n",
       "    .dataframe tbody tr th:only-of-type {\n",
       "        vertical-align: middle;\n",
       "    }\n",
       "\n",
       "    .dataframe tbody tr th {\n",
       "        vertical-align: top;\n",
       "    }\n",
       "\n",
       "    .dataframe thead th {\n",
       "        text-align: right;\n",
       "    }\n",
       "</style>\n",
       "<table border=\"1\" class=\"dataframe\">\n",
       "  <thead>\n",
       "    <tr style=\"text-align: right;\">\n",
       "      <th></th>\n",
       "      <th>num_seats_total</th>\n",
       "      <th>mean_net_ticket_price</th>\n",
       "      <th>Train_Number_All</th>\n",
       "      <th>Culmulative_sales</th>\n",
       "      <th>isNormCabin</th>\n",
       "      <th>isReturn</th>\n",
       "      <th>isOneway</th>\n",
       "      <th>Customer_Cat</th>\n",
       "      <th>dept_datetime</th>\n",
       "      <th>purch_datetime</th>\n",
       "    </tr>\n",
       "  </thead>\n",
       "  <tbody>\n",
       "    <tr>\n",
       "      <th>0</th>\n",
       "      <td>1</td>\n",
       "      <td>188.663422</td>\n",
       "      <td>A</td>\n",
       "      <td>1</td>\n",
       "      <td>1</td>\n",
       "      <td>0</td>\n",
       "      <td>0</td>\n",
       "      <td>A</td>\n",
       "      <td>2010-09-19</td>\n",
       "      <td>2010-10-18</td>\n",
       "    </tr>\n",
       "    <tr>\n",
       "      <th>1</th>\n",
       "      <td>1</td>\n",
       "      <td>358.428869</td>\n",
       "      <td>B</td>\n",
       "      <td>1</td>\n",
       "      <td>0</td>\n",
       "      <td>1</td>\n",
       "      <td>0</td>\n",
       "      <td>A</td>\n",
       "      <td>2019-05-27</td>\n",
       "      <td>2006-06-18</td>\n",
       "    </tr>\n",
       "    <tr>\n",
       "      <th>2</th>\n",
       "      <td>1</td>\n",
       "      <td>356.372684</td>\n",
       "      <td>B</td>\n",
       "      <td>1</td>\n",
       "      <td>0</td>\n",
       "      <td>1</td>\n",
       "      <td>0</td>\n",
       "      <td>A</td>\n",
       "      <td>2020-05-31</td>\n",
       "      <td>2019-06-17</td>\n",
       "    </tr>\n",
       "    <tr>\n",
       "      <th>3</th>\n",
       "      <td>1</td>\n",
       "      <td>396.370505</td>\n",
       "      <td>C</td>\n",
       "      <td>1</td>\n",
       "      <td>0</td>\n",
       "      <td>1</td>\n",
       "      <td>0</td>\n",
       "      <td>A</td>\n",
       "      <td>2012-10-19</td>\n",
       "      <td>2018-12-27</td>\n",
       "    </tr>\n",
       "    <tr>\n",
       "      <th>4</th>\n",
       "      <td>1</td>\n",
       "      <td>364.264552</td>\n",
       "      <td>B</td>\n",
       "      <td>2</td>\n",
       "      <td>0</td>\n",
       "      <td>1</td>\n",
       "      <td>0</td>\n",
       "      <td>A</td>\n",
       "      <td>2020-05-31</td>\n",
       "      <td>2019-06-19</td>\n",
       "    </tr>\n",
       "  </tbody>\n",
       "</table>\n",
       "</div>"
      ],
      "text/plain": [
       "   num_seats_total  mean_net_ticket_price Train_Number_All  Culmulative_sales  \\\n",
       "0                1             188.663422                A                  1   \n",
       "1                1             358.428869                B                  1   \n",
       "2                1             356.372684                B                  1   \n",
       "3                1             396.370505                C                  1   \n",
       "4                1             364.264552                B                  2   \n",
       "\n",
       "   isNormCabin  isReturn  isOneway Customer_Cat dept_datetime purch_datetime  \n",
       "0            1         0         0            A    2010-09-19     2010-10-18  \n",
       "1            0         1         0            A    2019-05-27     2006-06-18  \n",
       "2            0         1         0            A    2020-05-31     2019-06-17  \n",
       "3            0         1         0            A    2012-10-19     2018-12-27  \n",
       "4            0         1         0            A    2020-05-31     2019-06-19  "
      ]
     },
     "execution_count": 3,
     "metadata": {},
     "output_type": "execute_result"
    }
   ],
   "source": [
    "df.head()"
   ]
  },
  {
   "cell_type": "code",
   "execution_count": 4,
   "metadata": {},
   "outputs": [
    {
     "data": {
      "text/html": [
       "<div>\n",
       "<style scoped>\n",
       "    .dataframe tbody tr th:only-of-type {\n",
       "        vertical-align: middle;\n",
       "    }\n",
       "\n",
       "    .dataframe tbody tr th {\n",
       "        vertical-align: top;\n",
       "    }\n",
       "\n",
       "    .dataframe thead th {\n",
       "        text-align: right;\n",
       "    }\n",
       "</style>\n",
       "<table border=\"1\" class=\"dataframe\">\n",
       "  <thead>\n",
       "    <tr style=\"text-align: right;\">\n",
       "      <th></th>\n",
       "      <th>num_seats_total</th>\n",
       "      <th>mean_net_ticket_price</th>\n",
       "      <th>Culmulative_sales</th>\n",
       "      <th>isNormCabin</th>\n",
       "      <th>isReturn</th>\n",
       "      <th>isOneway</th>\n",
       "    </tr>\n",
       "  </thead>\n",
       "  <tbody>\n",
       "    <tr>\n",
       "      <th>count</th>\n",
       "      <td>209697.000000</td>\n",
       "      <td>209697.000000</td>\n",
       "      <td>209697.000000</td>\n",
       "      <td>209697.000000</td>\n",
       "      <td>209697.000000</td>\n",
       "      <td>209697.000000</td>\n",
       "    </tr>\n",
       "    <tr>\n",
       "      <th>mean</th>\n",
       "      <td>2.383019</td>\n",
       "      <td>230.116900</td>\n",
       "      <td>15.875063</td>\n",
       "      <td>0.598249</td>\n",
       "      <td>0.480183</td>\n",
       "      <td>0.122873</td>\n",
       "    </tr>\n",
       "    <tr>\n",
       "      <th>std</th>\n",
       "      <td>2.083324</td>\n",
       "      <td>147.024784</td>\n",
       "      <td>19.795677</td>\n",
       "      <td>0.490253</td>\n",
       "      <td>0.499608</td>\n",
       "      <td>0.328292</td>\n",
       "    </tr>\n",
       "    <tr>\n",
       "      <th>min</th>\n",
       "      <td>1.000000</td>\n",
       "      <td>1.278969</td>\n",
       "      <td>1.000000</td>\n",
       "      <td>0.000000</td>\n",
       "      <td>0.000000</td>\n",
       "      <td>0.000000</td>\n",
       "    </tr>\n",
       "    <tr>\n",
       "      <th>25%</th>\n",
       "      <td>1.000000</td>\n",
       "      <td>108.870193</td>\n",
       "      <td>3.000000</td>\n",
       "      <td>0.000000</td>\n",
       "      <td>0.000000</td>\n",
       "      <td>0.000000</td>\n",
       "    </tr>\n",
       "    <tr>\n",
       "      <th>50%</th>\n",
       "      <td>2.000000</td>\n",
       "      <td>186.282200</td>\n",
       "      <td>8.000000</td>\n",
       "      <td>1.000000</td>\n",
       "      <td>0.000000</td>\n",
       "      <td>0.000000</td>\n",
       "    </tr>\n",
       "    <tr>\n",
       "      <th>75%</th>\n",
       "      <td>3.000000</td>\n",
       "      <td>350.409481</td>\n",
       "      <td>21.000000</td>\n",
       "      <td>1.000000</td>\n",
       "      <td>1.000000</td>\n",
       "      <td>0.000000</td>\n",
       "    </tr>\n",
       "    <tr>\n",
       "      <th>max</th>\n",
       "      <td>66.000000</td>\n",
       "      <td>7855.766106</td>\n",
       "      <td>187.000000</td>\n",
       "      <td>1.000000</td>\n",
       "      <td>1.000000</td>\n",
       "      <td>1.000000</td>\n",
       "    </tr>\n",
       "  </tbody>\n",
       "</table>\n",
       "</div>"
      ],
      "text/plain": [
       "       num_seats_total  mean_net_ticket_price  Culmulative_sales  \\\n",
       "count    209697.000000          209697.000000      209697.000000   \n",
       "mean          2.383019             230.116900          15.875063   \n",
       "std           2.083324             147.024784          19.795677   \n",
       "min           1.000000               1.278969           1.000000   \n",
       "25%           1.000000             108.870193           3.000000   \n",
       "50%           2.000000             186.282200           8.000000   \n",
       "75%           3.000000             350.409481          21.000000   \n",
       "max          66.000000            7855.766106         187.000000   \n",
       "\n",
       "         isNormCabin       isReturn       isOneway  \n",
       "count  209697.000000  209697.000000  209697.000000  \n",
       "mean        0.598249       0.480183       0.122873  \n",
       "std         0.490253       0.499608       0.328292  \n",
       "min         0.000000       0.000000       0.000000  \n",
       "25%         0.000000       0.000000       0.000000  \n",
       "50%         1.000000       0.000000       0.000000  \n",
       "75%         1.000000       1.000000       0.000000  \n",
       "max         1.000000       1.000000       1.000000  "
      ]
     },
     "execution_count": 4,
     "metadata": {},
     "output_type": "execute_result"
    }
   ],
   "source": [
    "df.describe()"
   ]
  },
  {
   "cell_type": "markdown",
   "metadata": {},
   "source": [
    "## Variables Creation"
   ]
  },
  {
   "cell_type": "code",
   "execution_count": 5,
   "metadata": {},
   "outputs": [
    {
     "data": {
      "text/html": [
       "<div>\n",
       "<style scoped>\n",
       "    .dataframe tbody tr th:only-of-type {\n",
       "        vertical-align: middle;\n",
       "    }\n",
       "\n",
       "    .dataframe tbody tr th {\n",
       "        vertical-align: top;\n",
       "    }\n",
       "\n",
       "    .dataframe thead th {\n",
       "        text-align: right;\n",
       "    }\n",
       "</style>\n",
       "<table border=\"1\" class=\"dataframe\">\n",
       "  <thead>\n",
       "    <tr style=\"text-align: right;\">\n",
       "      <th></th>\n",
       "      <th>num_seats_total</th>\n",
       "      <th>mean_net_ticket_price</th>\n",
       "      <th>Train_Number_All</th>\n",
       "      <th>Quantity</th>\n",
       "      <th>isNormCabin</th>\n",
       "      <th>isReturn</th>\n",
       "      <th>isOneway</th>\n",
       "      <th>Customer_Cat</th>\n",
       "      <th>dept_datetime</th>\n",
       "      <th>purch_datetime</th>\n",
       "      <th>Gap</th>\n",
       "      <th>Price</th>\n",
       "      <th>isWeekend</th>\n",
       "    </tr>\n",
       "  </thead>\n",
       "  <tbody>\n",
       "    <tr>\n",
       "      <th>0</th>\n",
       "      <td>1</td>\n",
       "      <td>188.663422</td>\n",
       "      <td>A</td>\n",
       "      <td>1</td>\n",
       "      <td>1</td>\n",
       "      <td>0</td>\n",
       "      <td>0</td>\n",
       "      <td>A</td>\n",
       "      <td>2010-09-19</td>\n",
       "      <td>2010-10-18</td>\n",
       "      <td>-29</td>\n",
       "      <td>188.663422</td>\n",
       "      <td>1</td>\n",
       "    </tr>\n",
       "    <tr>\n",
       "      <th>1</th>\n",
       "      <td>1</td>\n",
       "      <td>358.428869</td>\n",
       "      <td>B</td>\n",
       "      <td>1</td>\n",
       "      <td>0</td>\n",
       "      <td>1</td>\n",
       "      <td>0</td>\n",
       "      <td>A</td>\n",
       "      <td>2019-05-27</td>\n",
       "      <td>2006-06-18</td>\n",
       "      <td>4726</td>\n",
       "      <td>358.428869</td>\n",
       "      <td>0</td>\n",
       "    </tr>\n",
       "    <tr>\n",
       "      <th>2</th>\n",
       "      <td>1</td>\n",
       "      <td>356.372684</td>\n",
       "      <td>B</td>\n",
       "      <td>1</td>\n",
       "      <td>0</td>\n",
       "      <td>1</td>\n",
       "      <td>0</td>\n",
       "      <td>A</td>\n",
       "      <td>2020-05-31</td>\n",
       "      <td>2019-06-17</td>\n",
       "      <td>349</td>\n",
       "      <td>356.372684</td>\n",
       "      <td>1</td>\n",
       "    </tr>\n",
       "    <tr>\n",
       "      <th>3</th>\n",
       "      <td>1</td>\n",
       "      <td>396.370505</td>\n",
       "      <td>C</td>\n",
       "      <td>1</td>\n",
       "      <td>0</td>\n",
       "      <td>1</td>\n",
       "      <td>0</td>\n",
       "      <td>A</td>\n",
       "      <td>2012-10-19</td>\n",
       "      <td>2018-12-27</td>\n",
       "      <td>-2260</td>\n",
       "      <td>396.370505</td>\n",
       "      <td>0</td>\n",
       "    </tr>\n",
       "    <tr>\n",
       "      <th>4</th>\n",
       "      <td>1</td>\n",
       "      <td>364.264552</td>\n",
       "      <td>B</td>\n",
       "      <td>2</td>\n",
       "      <td>0</td>\n",
       "      <td>1</td>\n",
       "      <td>0</td>\n",
       "      <td>A</td>\n",
       "      <td>2020-05-31</td>\n",
       "      <td>2019-06-19</td>\n",
       "      <td>347</td>\n",
       "      <td>364.264552</td>\n",
       "      <td>1</td>\n",
       "    </tr>\n",
       "  </tbody>\n",
       "</table>\n",
       "</div>"
      ],
      "text/plain": [
       "   num_seats_total  mean_net_ticket_price Train_Number_All  Quantity  \\\n",
       "0                1             188.663422                A         1   \n",
       "1                1             358.428869                B         1   \n",
       "2                1             356.372684                B         1   \n",
       "3                1             396.370505                C         1   \n",
       "4                1             364.264552                B         2   \n",
       "\n",
       "   isNormCabin  isReturn  isOneway Customer_Cat dept_datetime purch_datetime  \\\n",
       "0            1         0         0            A    2010-09-19     2010-10-18   \n",
       "1            0         1         0            A    2019-05-27     2006-06-18   \n",
       "2            0         1         0            A    2020-05-31     2019-06-17   \n",
       "3            0         1         0            A    2012-10-19     2018-12-27   \n",
       "4            0         1         0            A    2020-05-31     2019-06-19   \n",
       "\n",
       "    Gap       Price  isWeekend  \n",
       "0   -29  188.663422          1  \n",
       "1  4726  358.428869          0  \n",
       "2   349  356.372684          1  \n",
       "3 -2260  396.370505          0  \n",
       "4   347  364.264552          1  "
      ]
     },
     "execution_count": 5,
     "metadata": {},
     "output_type": "execute_result"
    }
   ],
   "source": [
    "#Add A New Variable: Gap\n",
    "df['Gap'] = df['dept_datetime'] - df['purch_datetime']\n",
    "df['Gap'] = df['Gap'].astype('str').apply(lambda x:x[:-5]).astype('int32')\n",
    "\n",
    "## Add A New Variable: Price\n",
    "df['Price'] =  df[\"mean_net_ticket_price\"]/df[\"num_seats_total\"]\n",
    "\n",
    "# Modify The Variable Name: Quantity\n",
    "df.rename(columns={'Culmulative_sales':'Quantity'},inplace=True)\n",
    "\n",
    "# Add A New Variable: isWeekend\n",
    "from datetime import datetime\n",
    "minus = pd.DataFrame((df['dept_datetime'] - df['dept_datetime'].min()\n",
    "              ).astype('str').apply(lambda x: x[:-5]).astype('int32'))\n",
    "\n",
    "minus['days'] = minus['dept_datetime'] % 7\n",
    "minus['isWeekend'] = minus['days'].apply(lambda x:1 if x==1 or x==2 else 0)\n",
    "df['isWeekend'] = minus['isWeekend']\n",
    "\n",
    "df.head()"
   ]
  },
  {
   "cell_type": "markdown",
   "metadata": {},
   "source": [
    "# Data Screening and Cleaning\n",
    "### Eliminate Data with Wrong Date"
   ]
  },
  {
   "cell_type": "code",
   "execution_count": 6,
   "metadata": {},
   "outputs": [],
   "source": [
    "df['dept_datetime'] = pd.to_datetime(df['dept_datetime'])\n",
    "df['purch_datetime'] = pd.to_datetime(df['purch_datetime'])\n",
    "\n",
    "df = df[df['purch_datetime'] <= df['dept_datetime']]"
   ]
  },
  {
   "cell_type": "markdown",
   "metadata": {},
   "source": [
    "### Data exploration"
   ]
  },
  {
   "cell_type": "code",
   "execution_count": 7,
   "metadata": {},
   "outputs": [
    {
     "data": {
      "image/png": "[encoded data removed]",
      "text/plain": [
       "<Figure size 432x288 with 1 Axes>"
      ]
     },
     "metadata": {
      "needs_background": "light"
     },
     "output_type": "display_data"
    }
   ],
   "source": [
    "df.plot(x='Quantity',y='Price',kind='scatter')\n",
    "plt.ylim([0,1400])\n",
    "plt.title('plot_2.1')\n",
    "plt.show()"
   ]
  },
  {
   "cell_type": "markdown",
   "metadata": {},
   "source": [
    "#### Price Jump problem"
   ]
  },
  {
   "cell_type": "code",
   "execution_count": 8,
   "metadata": {
    "scrolled": true
   },
   "outputs": [
    {
     "data": {
      "image/png": "[encoded data removed]",
      "text/plain": [
       "<Figure size 432x288 with 1 Axes>"
      ]
     },
     "metadata": {
      "needs_background": "light"
     },
     "output_type": "display_data"
    }
   ],
   "source": [
    "# Prices jump periodically as Gap varies\n",
    "plt.scatter(df.Gap, df.Price)\n",
    "plt.ylim(0,1200)\n",
    "plt.xlim(0,600)\n",
    "plt.xlabel('Gap/days')\n",
    "plt.ylabel('Price')\n",
    "plt.show()"
   ]
  },
  {
   "cell_type": "code",
   "execution_count": 9,
   "metadata": {},
   "outputs": [
    {
     "data": {
      "text/html": [
       "<div>\n",
       "<style scoped>\n",
       "    .dataframe tbody tr th:only-of-type {\n",
       "        vertical-align: middle;\n",
       "    }\n",
       "\n",
       "    .dataframe tbody tr th {\n",
       "        vertical-align: top;\n",
       "    }\n",
       "\n",
       "    .dataframe thead th {\n",
       "        text-align: right;\n",
       "    }\n",
       "</style>\n",
       "<table border=\"1\" class=\"dataframe\">\n",
       "  <thead>\n",
       "    <tr style=\"text-align: right;\">\n",
       "      <th></th>\n",
       "      <th>dept_datetime</th>\n",
       "      <th>purch_datetime</th>\n",
       "      <th>Gap</th>\n",
       "      <th>Price</th>\n",
       "      <th>isWeekend</th>\n",
       "    </tr>\n",
       "  </thead>\n",
       "  <tbody>\n",
       "    <tr>\n",
       "      <th>162060</th>\n",
       "      <td>2002-06-19</td>\n",
       "      <td>2001-10-19</td>\n",
       "      <td>243</td>\n",
       "      <td>645.674030</td>\n",
       "      <td>0</td>\n",
       "    </tr>\n",
       "    <tr>\n",
       "      <th>33578</th>\n",
       "      <td>2002-12-19</td>\n",
       "      <td>2002-04-19</td>\n",
       "      <td>244</td>\n",
       "      <td>593.216741</td>\n",
       "      <td>0</td>\n",
       "    </tr>\n",
       "    <tr>\n",
       "      <th>34563</th>\n",
       "      <td>2002-12-19</td>\n",
       "      <td>2002-04-19</td>\n",
       "      <td>244</td>\n",
       "      <td>567.973597</td>\n",
       "      <td>0</td>\n",
       "    </tr>\n",
       "    <tr>\n",
       "      <th>11438</th>\n",
       "      <td>2004-07-19</td>\n",
       "      <td>2003-11-19</td>\n",
       "      <td>243</td>\n",
       "      <td>595.543329</td>\n",
       "      <td>0</td>\n",
       "    </tr>\n",
       "    <tr>\n",
       "      <th>32926</th>\n",
       "      <td>2004-12-19</td>\n",
       "      <td>2004-04-19</td>\n",
       "      <td>244</td>\n",
       "      <td>684.036729</td>\n",
       "      <td>1</td>\n",
       "    </tr>\n",
       "    <tr>\n",
       "      <th>32923</th>\n",
       "      <td>2005-10-19</td>\n",
       "      <td>2005-02-19</td>\n",
       "      <td>242</td>\n",
       "      <td>982.320334</td>\n",
       "      <td>0</td>\n",
       "    </tr>\n",
       "    <tr>\n",
       "      <th>32898</th>\n",
       "      <td>2007-10-18</td>\n",
       "      <td>2007-02-18</td>\n",
       "      <td>242</td>\n",
       "      <td>708.453768</td>\n",
       "      <td>0</td>\n",
       "    </tr>\n",
       "    <tr>\n",
       "      <th>34164</th>\n",
       "      <td>2007-12-18</td>\n",
       "      <td>2007-04-18</td>\n",
       "      <td>244</td>\n",
       "      <td>559.788705</td>\n",
       "      <td>0</td>\n",
       "    </tr>\n",
       "    <tr>\n",
       "      <th>34346</th>\n",
       "      <td>2007-12-18</td>\n",
       "      <td>2007-04-18</td>\n",
       "      <td>244</td>\n",
       "      <td>559.546286</td>\n",
       "      <td>0</td>\n",
       "    </tr>\n",
       "    <tr>\n",
       "      <th>192321</th>\n",
       "      <td>2008-09-18</td>\n",
       "      <td>2008-01-18</td>\n",
       "      <td>244</td>\n",
       "      <td>557.086946</td>\n",
       "      <td>0</td>\n",
       "    </tr>\n",
       "  </tbody>\n",
       "</table>\n",
       "</div>"
      ],
      "text/plain": [
       "       dept_datetime purch_datetime  Gap       Price  isWeekend\n",
       "162060    2002-06-19     2001-10-19  243  645.674030          0\n",
       "33578     2002-12-19     2002-04-19  244  593.216741          0\n",
       "34563     2002-12-19     2002-04-19  244  567.973597          0\n",
       "11438     2004-07-19     2003-11-19  243  595.543329          0\n",
       "32926     2004-12-19     2004-04-19  244  684.036729          1\n",
       "32923     2005-10-19     2005-02-19  242  982.320334          0\n",
       "32898     2007-10-18     2007-02-18  242  708.453768          0\n",
       "34164     2007-12-18     2007-04-18  244  559.788705          0\n",
       "34346     2007-12-18     2007-04-18  244  559.546286          0\n",
       "192321    2008-09-18     2008-01-18  244  557.086946          0"
      ]
     },
     "execution_count": 9,
     "metadata": {},
     "output_type": "execute_result"
    }
   ],
   "source": [
    "# Furtherly study price concentrate shown above.\n",
    "jump = df[(df['Price'] > 550) & (df['Gap'] > 240) & (df['Gap'] < 245)].copy()\n",
    "jump.iloc[:,8:].sort_values(by = 'purch_datetime')[:10]"
   ]
  },
  {
   "cell_type": "markdown",
   "metadata": {},
   "source": [
    "Prices jump periodically as Gap varies. Furtherly spot that when purchase day and departure day in any month are the same and equals to 18 or 19, this price jump problem happens. So, we create a new variable to deal with this interferrence. \n",
    "\n",
    "And data points concentrate regularlly, when Gap > 360 i.e. purchase 1 year before departure.\n",
    "This is abnormal and consider as mistakes. Who buy train tickets one year before the departure date？"
   ]
  },
  {
   "cell_type": "code",
   "execution_count": 10,
   "metadata": {},
   "outputs": [],
   "source": [
    "# Drop data with Gap > 360\n",
    "df = df.drop(df[(df['Gap']>360)].index) \n",
    "\n",
    "# Add A New Variable: isdate_1819\n",
    "df['isdate_1819'] = (df['purch_datetime'] == df['dept_datetime']) \n"
   ]
  },
  {
   "cell_type": "code",
   "execution_count": 11,
   "metadata": {},
   "outputs": [],
   "source": [
    "df1 = df.drop(df[(df['Price']>300) & (df['Quantity']>125)].index) \n",
    "df1 = df1.drop(df1[(df1['Price']>1000)].index)"
   ]
  },
  {
   "cell_type": "code",
   "execution_count": 12,
   "metadata": {},
   "outputs": [
    {
     "data": {
      "text/plain": [
       "<AxesSubplot:xlabel='isNormCabin', ylabel='Price'>"
      ]
     },
     "execution_count": 12,
     "metadata": {},
     "output_type": "execute_result"
    },
    {
     "data": {
      "image/png": "[encoded data removed]",
      "text/plain": [
       "<Figure size 432x288 with 1 Axes>"
      ]
     },
     "metadata": {},
     "output_type": "display_data"
    }
   ],
   "source": [
    "import warnings\n",
    "warnings.filterwarnings('ignore')\n",
    "sns.set_style(\"whitegrid\")\n",
    "ax=sns.boxenplot( df1['isNormCabin'], df1['Price'], data=df1)\n",
    "ax.set(ylim=(0, 1300))\n",
    "ax"
   ]
  },
  {
   "cell_type": "code",
   "execution_count": 13,
   "metadata": {},
   "outputs": [
    {
     "data": {
      "text/plain": [
       "88866"
      ]
     },
     "execution_count": 13,
     "metadata": {},
     "output_type": "execute_result"
    },
    {
     "data": {
      "image/png": "[encoded data removed]",
      "text/plain": [
       "<Figure size 432x288 with 1 Axes>"
      ]
     },
     "metadata": {},
     "output_type": "display_data"
    }
   ],
   "source": [
    "df1 = df1.drop(df1[(df1['Price']>750) & (df1['isNormCabin']==0)].index) \n",
    "df1 = df1.drop(df1[(df1['Price']>400) & (df1['isNormCabin']==1)].index) \n",
    "\n",
    "sns.set_style(\"whitegrid\")\n",
    "ax=sns.boxenplot( df1['isNormCabin'], df1['Price'], data=df1)\n",
    "len(df)"
   ]
  },
  {
   "cell_type": "code",
   "execution_count": 14,
   "metadata": {},
   "outputs": [
    {
     "data": {
      "text/plain": [
       "<AxesSubplot:xlabel='isWeekend', ylabel='Price'>"
      ]
     },
     "execution_count": 14,
     "metadata": {},
     "output_type": "execute_result"
    },
    {
     "data": {
      "image/png": "[encoded data removed]",
      "text/plain": [
       "<Figure size 432x288 with 1 Axes>"
      ]
     },
     "metadata": {},
     "output_type": "display_data"
    }
   ],
   "source": [
    "sns.set_style(\"whitegrid\")\n",
    "ax=sns.boxenplot( df1['isWeekend'], df1['Price'], data=df)\n",
    "ax.set(ylim=(0, 1300))\n",
    "ax"
   ]
  },
  {
   "cell_type": "code",
   "execution_count": 15,
   "metadata": {},
   "outputs": [
    {
     "data": {
      "text/plain": [
       "<AxesSubplot:xlabel='Customer_Cat', ylabel='Price'>"
      ]
     },
     "execution_count": 15,
     "metadata": {},
     "output_type": "execute_result"
    },
    {
     "data": {
      "image/png": "[encoded data removed]",
      "text/plain": [
       "<Figure size 432x288 with 1 Axes>"
      ]
     },
     "metadata": {},
     "output_type": "display_data"
    }
   ],
   "source": [
    "sns.set_style(\"whitegrid\")\n",
    "ax=sns.boxenplot( df1['Customer_Cat'], df1['Price'], data=df1)\n",
    "ax.set(ylim=(0, 1300))\n",
    "ax"
   ]
  },
  {
   "cell_type": "markdown",
   "metadata": {},
   "source": [
    "### Data Cleaning"
   ]
  },
  {
   "cell_type": "code",
   "execution_count": 16,
   "metadata": {},
   "outputs": [
    {
     "data": {
      "text/html": [
       "<div>\n",
       "<style scoped>\n",
       "    .dataframe tbody tr th:only-of-type {\n",
       "        vertical-align: middle;\n",
       "    }\n",
       "\n",
       "    .dataframe tbody tr th {\n",
       "        vertical-align: top;\n",
       "    }\n",
       "\n",
       "    .dataframe thead th {\n",
       "        text-align: right;\n",
       "    }\n",
       "</style>\n",
       "<table border=\"1\" class=\"dataframe\">\n",
       "  <thead>\n",
       "    <tr style=\"text-align: right;\">\n",
       "      <th></th>\n",
       "      <th>num_seats_total</th>\n",
       "      <th>mean_net_ticket_price</th>\n",
       "      <th>Train_Number_All</th>\n",
       "      <th>Quantity</th>\n",
       "      <th>isNormCabin</th>\n",
       "      <th>isReturn</th>\n",
       "      <th>isOneway</th>\n",
       "      <th>Customer_Cat</th>\n",
       "      <th>dept_datetime</th>\n",
       "      <th>purch_datetime</th>\n",
       "      <th>Gap</th>\n",
       "      <th>Price</th>\n",
       "      <th>isWeekend</th>\n",
       "      <th>isdate_1819</th>\n",
       "    </tr>\n",
       "  </thead>\n",
       "  <tbody>\n",
       "    <tr>\n",
       "      <th>2</th>\n",
       "      <td>1</td>\n",
       "      <td>356.372684</td>\n",
       "      <td>B</td>\n",
       "      <td>1</td>\n",
       "      <td>0</td>\n",
       "      <td>1</td>\n",
       "      <td>0</td>\n",
       "      <td>A</td>\n",
       "      <td>2020-05-31</td>\n",
       "      <td>2019-06-17</td>\n",
       "      <td>349</td>\n",
       "      <td>356.372684</td>\n",
       "      <td>1</td>\n",
       "      <td>False</td>\n",
       "    </tr>\n",
       "    <tr>\n",
       "      <th>4</th>\n",
       "      <td>1</td>\n",
       "      <td>364.264552</td>\n",
       "      <td>B</td>\n",
       "      <td>2</td>\n",
       "      <td>0</td>\n",
       "      <td>1</td>\n",
       "      <td>0</td>\n",
       "      <td>A</td>\n",
       "      <td>2020-05-31</td>\n",
       "      <td>2019-06-19</td>\n",
       "      <td>347</td>\n",
       "      <td>364.264552</td>\n",
       "      <td>1</td>\n",
       "      <td>False</td>\n",
       "    </tr>\n",
       "    <tr>\n",
       "      <th>5</th>\n",
       "      <td>1</td>\n",
       "      <td>318.300419</td>\n",
       "      <td>D</td>\n",
       "      <td>1</td>\n",
       "      <td>0</td>\n",
       "      <td>1</td>\n",
       "      <td>0</td>\n",
       "      <td>A</td>\n",
       "      <td>2020-05-23</td>\n",
       "      <td>2019-06-20</td>\n",
       "      <td>338</td>\n",
       "      <td>318.300419</td>\n",
       "      <td>1</td>\n",
       "      <td>False</td>\n",
       "    </tr>\n",
       "    <tr>\n",
       "      <th>6</th>\n",
       "      <td>2</td>\n",
       "      <td>464.010928</td>\n",
       "      <td>E</td>\n",
       "      <td>2</td>\n",
       "      <td>0</td>\n",
       "      <td>1</td>\n",
       "      <td>0</td>\n",
       "      <td>A</td>\n",
       "      <td>2019-05-23</td>\n",
       "      <td>2018-06-20</td>\n",
       "      <td>337</td>\n",
       "      <td>232.005464</td>\n",
       "      <td>0</td>\n",
       "      <td>False</td>\n",
       "    </tr>\n",
       "    <tr>\n",
       "      <th>7</th>\n",
       "      <td>1</td>\n",
       "      <td>355.221623</td>\n",
       "      <td>C</td>\n",
       "      <td>1</td>\n",
       "      <td>0</td>\n",
       "      <td>1</td>\n",
       "      <td>0</td>\n",
       "      <td>A</td>\n",
       "      <td>2019-10-18</td>\n",
       "      <td>2018-11-15</td>\n",
       "      <td>337</td>\n",
       "      <td>355.221623</td>\n",
       "      <td>0</td>\n",
       "      <td>False</td>\n",
       "    </tr>\n",
       "  </tbody>\n",
       "</table>\n",
       "</div>"
      ],
      "text/plain": [
       "   num_seats_total  mean_net_ticket_price Train_Number_All  Quantity  \\\n",
       "2                1             356.372684                B         1   \n",
       "4                1             364.264552                B         2   \n",
       "5                1             318.300419                D         1   \n",
       "6                2             464.010928                E         2   \n",
       "7                1             355.221623                C         1   \n",
       "\n",
       "   isNormCabin  isReturn  isOneway Customer_Cat dept_datetime purch_datetime  \\\n",
       "2            0         1         0            A    2020-05-31     2019-06-17   \n",
       "4            0         1         0            A    2020-05-31     2019-06-19   \n",
       "5            0         1         0            A    2020-05-23     2019-06-20   \n",
       "6            0         1         0            A    2019-05-23     2018-06-20   \n",
       "7            0         1         0            A    2019-10-18     2018-11-15   \n",
       "\n",
       "   Gap       Price  isWeekend  isdate_1819  \n",
       "2  349  356.372684          1        False  \n",
       "4  347  364.264552          1        False  \n",
       "5  338  318.300419          1        False  \n",
       "6  337  232.005464          0        False  \n",
       "7  337  355.221623          0        False  "
      ]
     },
     "execution_count": 16,
     "metadata": {},
     "output_type": "execute_result"
    }
   ],
   "source": [
    "df1 = df.copy()\n",
    "df1 = df1.drop(df1[(df1['Gap']>360)].index) \n",
    "df1 = df1.drop(df1[(df1['Price']>300) & (df1['Quantity']>125)].index) \n",
    "df1 = df1.drop(df1[(df1['Price']>1000)].index)\n",
    "df1 = df1.drop(df1[(df1['Price']>750) & (df1['isNormCabin']==0)].index) \n",
    "df1 = df1.drop(df1[(df1['Price']>400) & (df1['isNormCabin']==1)].index) \n",
    "df1 = df1.drop(df1[(df1['Price']>650) & (df1['Customer_Cat']=='B')].index) \n",
    "df1 = df1.drop(df1[(df1['Price']>700) & (df1['Customer_Cat']=='A')].index)\n",
    "df = df1\n",
    "df.head()"
   ]
  },
  {
   "cell_type": "markdown",
   "metadata": {},
   "source": [
    "### Output cleaned data"
   ]
  },
  {
   "cell_type": "code",
   "execution_count": 17,
   "metadata": {},
   "outputs": [],
   "source": [
    "# output\n",
    "df.to_csv('cleaned_data.csv')"
   ]
  },
  {
   "cell_type": "markdown",
   "metadata": {},
   "source": [
    "## Correlation Analysis Between Customer_Cat and Other Variables"
   ]
  },
  {
   "cell_type": "code",
   "execution_count": 18,
   "metadata": {},
   "outputs": [
    {
     "data": {
      "image/png": "[encoded data removed]",
      "text/plain": [
       "<Figure size 720x432 with 2 Axes>"
      ]
     },
     "metadata": {},
     "output_type": "display_data"
    }
   ],
   "source": [
    "import seaborn as sns\n",
    "df2 = df\n",
    "df2['Customer_Cat'] = pd.get_dummies(df2['Customer_Cat'])\n",
    "df2['Train_Number_All'] = pd.get_dummies(df2['Train_Number_All'])\n",
    "\n",
    "cols = [\n",
    "    'Customer_Cat', 'isReturn', 'isOneway', 'Gap', 'Train_Number_All',\n",
    "    'isNormCabin', 'isWeekend'\n",
    "]\n",
    "\n",
    "cm = np.corrcoef(df2[cols].values.T)\n",
    "#sns.set(font_scale=1.5) \n",
    "\n",
    "plt.figure(figsize=(10,6))\n",
    "\n",
    "hm = sns.heatmap(cm,\n",
    "                 cbar=True,\n",
    "                 annot=True,\n",
    "                 square=True,\n",
    "                 fmt='.2f',\n",
    "                 annot_kws={'size': 12},\n",
    "                 yticklabels=cols,\n",
    "                 xticklabels=cols)\n",
    "\n",
    "# plt.savefig('heatmap.png', dpi=300)\n",
    "plt.tight_layout()\n",
    "plt.show()"
   ]
  }
 ],
 "metadata": {
  "kernelspec": {
   "display_name": "Python 3",
   "language": "python",
   "name": "python3"
  },
  "language_info": {
   "codemirror_mode": {
    "name": "ipython",
    "version": 3
   },
   "file_extension": ".py",
   "mimetype": "text/x-python",
   "name": "python",
   "nbconvert_exporter": "python",
   "pygments_lexer": "ipython3",
   "version": "3.8.5"
  }
 },
 "nbformat": 4,
 "nbformat_minor": 4
}
