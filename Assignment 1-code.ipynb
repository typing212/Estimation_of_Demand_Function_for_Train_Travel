{
 "cells": [
  {
   "cell_type": "markdown",
   "metadata": {},
   "source": [
    "# Assignment 1 - code\n",
    "### DBA 5101\n",
    " Ke Ma\n",
    "\n",
    "A0212524U"
   ]
  },
  {
   "cell_type": "code",
   "execution_count": 4,
   "metadata": {},
   "outputs": [],
   "source": [
    "from scipy import stats\n",
    "import numpy as np\n",
    "# generate e,n and x\n",
    "e = stats.norm(0,1).rvs(100)\n",
    "n = stats.norm(0,0.5).rvs(100)\n",
    "x = np.array(range(1,101,1))"
   ]
  },
  {
   "cell_type": "code",
   "execution_count": 6,
   "metadata": {},
   "outputs": [
    {
     "name": "stdout",
     "output_type": "stream",
     "text": [
      "y = [  3.19999978   4.37462417   6.50435916   5.59399937   7.92062324\n",
      "   9.42555937  12.44850126  11.91153108  14.17581108  14.52470604\n",
      "  18.05851883  18.56057421  20.13529136  22.44431316  23.2785504\n",
      "  25.24022611  26.04806728  27.89382595  28.63033883  31.09878656\n",
      "  29.90854121  33.8843736   34.20374365  35.90503874  39.82472607\n",
      "  39.30003759  39.39389028  43.82385698  45.5432537   46.40639482\n",
      "  46.91032763  49.6380928   49.52830762  49.95477486  52.8709075\n",
      "  55.63742976  57.61038172  57.14709869  59.09450599  59.28050726\n",
      "  61.83471173  63.55475393  64.27703628  66.10618633  67.99385028\n",
      "  69.70036816  71.58565377  74.56136173  73.02326006  75.8578627\n",
      "  78.55964501  79.88698674  80.88393459  83.1449464   81.05515267\n",
      "  82.52249672  86.4475027   87.79513761  89.83895703  90.22831397\n",
      "  92.22634448  93.77205143  95.46219888  95.60163269  96.89360486\n",
      " 101.96489952 100.82958195 103.13395276 102.96248742 106.38131918\n",
      " 106.64927725 110.87300617 111.46732724 111.19383581 112.85536119\n",
      " 115.15048933 115.18471353 117.14580164 120.07426612 121.6521529\n",
      " 121.91000457 122.84578669 126.27920917 125.98531889 126.66455115\n",
      " 130.57109373 130.86466514 132.33578335 135.15743008 135.71439415\n",
      " 136.7646694  138.00990389 139.19598848 142.69596513 142.72751155\n",
      " 144.8686457  147.16574876 149.09815346 149.57671475 149.28373583]\n",
      "z = [-0.35438419  0.98824753  0.5330635   1.7928304   2.65751039  2.66761899\n",
      "  2.84200157  2.67711009  3.3858095   5.34873913  5.17092203  5.37969397\n",
      "  4.85998229  5.15699763  5.84625362  6.7706103   7.19809843  7.7968273\n",
      "  7.93377283  7.09411276  9.19200621  8.13681991  9.77725434  9.782617\n",
      " 10.09094492 11.30873826 11.26012761 11.53687619 12.30731215 12.14227904\n",
      " 12.19460884 12.30907092 13.78608684 13.84128836 14.60625545 14.94278453\n",
      " 14.41165851 15.17638283 15.82735606 16.28981312 16.38310292 16.72966495\n",
      " 17.88594668 17.85720351 17.8529895  18.51659085 18.31699824 19.34779358\n",
      " 19.69773845 19.56329774 20.14039677 20.66403978 20.56718279 21.96609581\n",
      " 22.22064894 22.4666807  22.96705226 22.82042843 23.93102899 24.32140701\n",
      " 24.81458942 24.83648608 25.97465606 26.60010627 25.9565415  26.6476749\n",
      " 26.41387464 27.59732745 27.71268784 28.49411543 29.25473173 29.32285123\n",
      " 29.55665446 30.44800551 30.06976624 30.66524373 31.21996643 30.75180916\n",
      " 31.72149018 31.53493448 31.97816225 31.83162536 32.70500485 33.97621804\n",
      " 34.2391471  34.48097787 35.24023496 35.69675232 35.77236578 36.24867008\n",
      " 36.79361027 36.75963986 38.33623862 38.27346381 39.06967647 38.25029927\n",
      " 39.61954996 39.9849469  40.90702062 39.74684573]\n"
     ]
    }
   ],
   "source": [
    "# simulate y and z\n",
    "y = 0.5 + 1.5*x + e\n",
    "z = 0.2 + 0.4*x + n\n",
    "print('y = {}\\nz = {}'.format(y,z))"
   ]
  },
  {
   "cell_type": "code",
   "execution_count": 29,
   "metadata": {},
   "outputs": [
    {
     "data": {
      "text/html": [
       "<table class=\"simpletable\">\n",
       "<caption>OLS Regression Results</caption>\n",
       "<tr>\n",
       "  <th>Dep. Variable:</th>            <td>y</td>        <th>  R-squared:         </th> <td>   0.998</td> \n",
       "</tr>\n",
       "<tr>\n",
       "  <th>Model:</th>                   <td>OLS</td>       <th>  Adj. R-squared:    </th> <td>   0.998</td> \n",
       "</tr>\n",
       "<tr>\n",
       "  <th>Method:</th>             <td>Least Squares</td>  <th>  F-statistic:       </th> <td>3.955e+04</td>\n",
       "</tr>\n",
       "<tr>\n",
       "  <th>Date:</th>             <td>Thu, 02 Sep 2021</td> <th>  Prob (F-statistic):</th> <td>1.45e-129</td>\n",
       "</tr>\n",
       "<tr>\n",
       "  <th>Time:</th>                 <td>01:43:09</td>     <th>  Log-Likelihood:    </th> <td> -218.59</td> \n",
       "</tr>\n",
       "<tr>\n",
       "  <th>No. Observations:</th>      <td>   100</td>      <th>  AIC:               </th> <td>   441.2</td> \n",
       "</tr>\n",
       "<tr>\n",
       "  <th>Df Residuals:</th>          <td>    98</td>      <th>  BIC:               </th> <td>   446.4</td> \n",
       "</tr>\n",
       "<tr>\n",
       "  <th>Df Model:</th>              <td>     1</td>      <th>                     </th>     <td> </td>    \n",
       "</tr>\n",
       "<tr>\n",
       "  <th>Covariance Type:</th>      <td>nonrobust</td>    <th>                     </th>     <td> </td>    \n",
       "</tr>\n",
       "</table>\n",
       "<table class=\"simpletable\">\n",
       "<tr>\n",
       "      <td></td>         <th>coef</th>     <th>std err</th>      <th>t</th>      <th>P>|t|</th>  <th>[0.025</th>    <th>0.975]</th>  \n",
       "</tr>\n",
       "<tr>\n",
       "  <th>Intercept</th> <td>    0.6187</td> <td>    0.439</td> <td>    1.409</td> <td> 0.162</td> <td>   -0.252</td> <td>    1.490</td>\n",
       "</tr>\n",
       "<tr>\n",
       "  <th>z</th>         <td>    3.7203</td> <td>    0.019</td> <td>  198.873</td> <td> 0.000</td> <td>    3.683</td> <td>    3.757</td>\n",
       "</tr>\n",
       "</table>\n",
       "<table class=\"simpletable\">\n",
       "<tr>\n",
       "  <th>Omnibus:</th>       <td> 0.595</td> <th>  Durbin-Watson:     </th> <td>   1.803</td>\n",
       "</tr>\n",
       "<tr>\n",
       "  <th>Prob(Omnibus):</th> <td> 0.743</td> <th>  Jarque-Bera (JB):  </th> <td>   0.733</td>\n",
       "</tr>\n",
       "<tr>\n",
       "  <th>Skew:</th>          <td>-0.112</td> <th>  Prob(JB):          </th> <td>   0.693</td>\n",
       "</tr>\n",
       "<tr>\n",
       "  <th>Kurtosis:</th>      <td> 2.646</td> <th>  Cond. No.          </th> <td>    47.4</td>\n",
       "</tr>\n",
       "</table><br/><br/>Notes:<br/>[1] Standard Errors assume that the covariance matrix of the errors is correctly specified."
      ],
      "text/plain": [
       "<class 'statsmodels.iolib.summary.Summary'>\n",
       "\"\"\"\n",
       "                            OLS Regression Results                            \n",
       "==============================================================================\n",
       "Dep. Variable:                      y   R-squared:                       0.998\n",
       "Model:                            OLS   Adj. R-squared:                  0.998\n",
       "Method:                 Least Squares   F-statistic:                 3.955e+04\n",
       "Date:                Thu, 02 Sep 2021   Prob (F-statistic):          1.45e-129\n",
       "Time:                        01:43:09   Log-Likelihood:                -218.59\n",
       "No. Observations:                 100   AIC:                             441.2\n",
       "Df Residuals:                      98   BIC:                             446.4\n",
       "Df Model:                           1                                         \n",
       "Covariance Type:            nonrobust                                         \n",
       "==============================================================================\n",
       "                 coef    std err          t      P>|t|      [0.025      0.975]\n",
       "------------------------------------------------------------------------------\n",
       "Intercept      0.6187      0.439      1.409      0.162      -0.252       1.490\n",
       "z              3.7203      0.019    198.873      0.000       3.683       3.757\n",
       "==============================================================================\n",
       "Omnibus:                        0.595   Durbin-Watson:                   1.803\n",
       "Prob(Omnibus):                  0.743   Jarque-Bera (JB):                0.733\n",
       "Skew:                          -0.112   Prob(JB):                        0.693\n",
       "Kurtosis:                       2.646   Cond. No.                         47.4\n",
       "==============================================================================\n",
       "\n",
       "Notes:\n",
       "[1] Standard Errors assume that the covariance matrix of the errors is correctly specified.\n",
       "\"\"\""
      ]
     },
     "execution_count": 29,
     "metadata": {},
     "output_type": "execute_result"
    }
   ],
   "source": [
    "# Regress y with z use linear regression model from sklearn\n",
    "import statsmodels.formula.api as smf\n",
    "import pandas as pd\n",
    "df = pd.DataFrame({'y': y, 'z': z, 'x': x})\n",
    "model = smf.ols('y ~ z', data =df).fit()\n",
    "model.summary()"
   ]
  },
  {
   "cell_type": "markdown",
   "metadata": {},
   "source": [
    "Since the P value of coefficient is 0.000, it is significant."
   ]
  },
  {
   "cell_type": "code",
   "execution_count": 30,
   "metadata": {},
   "outputs": [
    {
     "data": {
      "text/html": [
       "<table class=\"simpletable\">\n",
       "<caption>OLS Regression Results</caption>\n",
       "<tr>\n",
       "  <th>Dep. Variable:</th>            <td>y</td>        <th>  R-squared:         </th> <td>   1.000</td> \n",
       "</tr>\n",
       "<tr>\n",
       "  <th>Model:</th>                   <td>OLS</td>       <th>  Adj. R-squared:    </th> <td>   1.000</td> \n",
       "</tr>\n",
       "<tr>\n",
       "  <th>Method:</th>             <td>Least Squares</td>  <th>  F-statistic:       </th> <td>9.901e+04</td>\n",
       "</tr>\n",
       "<tr>\n",
       "  <th>Date:</th>             <td>Thu, 02 Sep 2021</td> <th>  Prob (F-statistic):</th> <td>2.87e-161</td>\n",
       "</tr>\n",
       "<tr>\n",
       "  <th>Time:</th>                 <td>01:43:13</td>     <th>  Log-Likelihood:    </th> <td> -137.64</td> \n",
       "</tr>\n",
       "<tr>\n",
       "  <th>No. Observations:</th>      <td>   100</td>      <th>  AIC:               </th> <td>   281.3</td> \n",
       "</tr>\n",
       "<tr>\n",
       "  <th>Df Residuals:</th>          <td>    97</td>      <th>  BIC:               </th> <td>   289.1</td> \n",
       "</tr>\n",
       "<tr>\n",
       "  <th>Df Model:</th>              <td>     2</td>      <th>                     </th>     <td> </td>    \n",
       "</tr>\n",
       "<tr>\n",
       "  <th>Covariance Type:</th>      <td>nonrobust</td>    <th>                     </th>     <td> </td>    \n",
       "</tr>\n",
       "</table>\n",
       "<table class=\"simpletable\">\n",
       "<tr>\n",
       "      <td></td>         <th>coef</th>     <th>std err</th>      <th>t</th>      <th>P>|t|</th>  <th>[0.025</th>    <th>0.975]</th>  \n",
       "</tr>\n",
       "<tr>\n",
       "  <th>Intercept</th> <td>    0.7237</td> <td>    0.196</td> <td>    3.684</td> <td> 0.000</td> <td>    0.334</td> <td>    1.114</td>\n",
       "</tr>\n",
       "<tr>\n",
       "  <th>z</th>         <td>   -0.3234</td> <td>    0.204</td> <td>   -1.583</td> <td> 0.117</td> <td>   -0.729</td> <td>    0.082</td>\n",
       "</tr>\n",
       "<tr>\n",
       "  <th>x</th>         <td>    1.6301</td> <td>    0.082</td> <td>   19.816</td> <td> 0.000</td> <td>    1.467</td> <td>    1.793</td>\n",
       "</tr>\n",
       "</table>\n",
       "<table class=\"simpletable\">\n",
       "<tr>\n",
       "  <th>Omnibus:</th>       <td> 0.201</td> <th>  Durbin-Watson:     </th> <td>   2.026</td>\n",
       "</tr>\n",
       "<tr>\n",
       "  <th>Prob(Omnibus):</th> <td> 0.905</td> <th>  Jarque-Bera (JB):  </th> <td>   0.385</td>\n",
       "</tr>\n",
       "<tr>\n",
       "  <th>Skew:</th>          <td> 0.001</td> <th>  Prob(JB):          </th> <td>   0.825</td>\n",
       "</tr>\n",
       "<tr>\n",
       "  <th>Kurtosis:</th>      <td> 2.696</td> <th>  Cond. No.          </th> <td>    143.</td>\n",
       "</tr>\n",
       "</table><br/><br/>Notes:<br/>[1] Standard Errors assume that the covariance matrix of the errors is correctly specified."
      ],
      "text/plain": [
       "<class 'statsmodels.iolib.summary.Summary'>\n",
       "\"\"\"\n",
       "                            OLS Regression Results                            \n",
       "==============================================================================\n",
       "Dep. Variable:                      y   R-squared:                       1.000\n",
       "Model:                            OLS   Adj. R-squared:                  1.000\n",
       "Method:                 Least Squares   F-statistic:                 9.901e+04\n",
       "Date:                Thu, 02 Sep 2021   Prob (F-statistic):          2.87e-161\n",
       "Time:                        01:43:13   Log-Likelihood:                -137.64\n",
       "No. Observations:                 100   AIC:                             281.3\n",
       "Df Residuals:                      97   BIC:                             289.1\n",
       "Df Model:                           2                                         \n",
       "Covariance Type:            nonrobust                                         \n",
       "==============================================================================\n",
       "                 coef    std err          t      P>|t|      [0.025      0.975]\n",
       "------------------------------------------------------------------------------\n",
       "Intercept      0.7237      0.196      3.684      0.000       0.334       1.114\n",
       "z             -0.3234      0.204     -1.583      0.117      -0.729       0.082\n",
       "x              1.6301      0.082     19.816      0.000       1.467       1.793\n",
       "==============================================================================\n",
       "Omnibus:                        0.201   Durbin-Watson:                   2.026\n",
       "Prob(Omnibus):                  0.905   Jarque-Bera (JB):                0.385\n",
       "Skew:                           0.001   Prob(JB):                        0.825\n",
       "Kurtosis:                       2.696   Cond. No.                         143.\n",
       "==============================================================================\n",
       "\n",
       "Notes:\n",
       "[1] Standard Errors assume that the covariance matrix of the errors is correctly specified.\n",
       "\"\"\""
      ]
     },
     "execution_count": 30,
     "metadata": {},
     "output_type": "execute_result"
    }
   ],
   "source": [
    "model = smf.ols('y ~ z + x', data =df).fit()\n",
    "model.summary()"
   ]
  },
  {
   "cell_type": "markdown",
   "metadata": {},
   "source": [
    "P value of coeff for z > 0.1, while P value of coeff for x = 0.000. In this model, coefficient for z is not significant while coefficient for x is significant.\n",
    "This results differs from above only because introducing x as an independent variables.**This is because z is derivated from x and so intervened by x. when regress y with z and x, the relationship between y and x is more direct with less noise (only e), but relationship with z involves 2 kind of noise (e and n).**"
   ]
  }
 ],
 "metadata": {
  "kernelspec": {
   "display_name": "Python 3",
   "language": "python",
   "name": "python3"
  },
  "language_info": {
   "codemirror_mode": {
    "name": "ipython",
    "version": 3
   },
   "file_extension": ".py",
   "mimetype": "text/x-python",
   "name": "python",
   "nbconvert_exporter": "python",
   "pygments_lexer": "ipython3",
   "version": "3.8.5"
  }
 },
 "nbformat": 4,
 "nbformat_minor": 4
}
